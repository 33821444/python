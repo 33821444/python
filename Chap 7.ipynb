{
 "cells": [
  {
   "cell_type": "markdown",
   "metadata": {},
   "source": [
    "# pandas載入檔案\n",
    "## 本地端載入csv檔案\n",
    "\n",
    "### iris(鳶尾花)資料集\n",
    "sepal(花萼), petal(花瓣)\n",
    "\n",
    "\n",
    "![\"iris\"](data:image/jpeg;base64,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\n",
    ")"
   ]
  },
  {
   "cell_type": "markdown",
   "metadata": {},
   "source": [
    "import pandas as pd\n",
    "iris_df=pd.read_csv(\"iris.csv\")\n",
    "iris_df.head()"
   ]
  },
  {
   "cell_type": "markdown",
   "metadata": {},
   "source": [
    "# 雲端載入csv檔案"
   ]
  },
  {
   "cell_type": "code",
   "execution_count": 7,
   "metadata": {},
   "outputs": [
    {
     "data": {
      "text/html": [
       "<div>\n",
       "<style scoped>\n",
       "    .dataframe tbody tr th:only-of-type {\n",
       "        vertical-align: middle;\n",
       "    }\n",
       "\n",
       "    .dataframe tbody tr th {\n",
       "        vertical-align: top;\n",
       "    }\n",
       "\n",
       "    .dataframe thead th {\n",
       "        text-align: right;\n",
       "    }\n",
       "</style>\n",
       "<table border=\"1\" class=\"dataframe\">\n",
       "  <thead>\n",
       "    <tr style=\"text-align: right;\">\n",
       "      <th></th>\n",
       "      <th>Sepal.Length</th>\n",
       "      <th>Sepal.Width</th>\n",
       "      <th>Petal.Length</th>\n",
       "      <th>Petal.Width</th>\n",
       "      <th>Species</th>\n",
       "    </tr>\n",
       "  </thead>\n",
       "  <tbody>\n",
       "    <tr>\n",
       "      <td>0</td>\n",
       "      <td>5.1</td>\n",
       "      <td>3.5</td>\n",
       "      <td>1.4</td>\n",
       "      <td>0.2</td>\n",
       "      <td>setosa</td>\n",
       "    </tr>\n",
       "    <tr>\n",
       "      <td>1</td>\n",
       "      <td>4.9</td>\n",
       "      <td>3.0</td>\n",
       "      <td>1.4</td>\n",
       "      <td>0.2</td>\n",
       "      <td>setosa</td>\n",
       "    </tr>\n",
       "    <tr>\n",
       "      <td>2</td>\n",
       "      <td>4.7</td>\n",
       "      <td>3.2</td>\n",
       "      <td>1.3</td>\n",
       "      <td>0.2</td>\n",
       "      <td>setosa</td>\n",
       "    </tr>\n",
       "    <tr>\n",
       "      <td>3</td>\n",
       "      <td>4.6</td>\n",
       "      <td>3.1</td>\n",
       "      <td>1.5</td>\n",
       "      <td>0.2</td>\n",
       "      <td>setosa</td>\n",
       "    </tr>\n",
       "    <tr>\n",
       "      <td>4</td>\n",
       "      <td>5.0</td>\n",
       "      <td>3.6</td>\n",
       "      <td>1.4</td>\n",
       "      <td>0.2</td>\n",
       "      <td>setosa</td>\n",
       "    </tr>\n",
       "  </tbody>\n",
       "</table>\n",
       "</div>"
      ],
      "text/plain": [
       "   Sepal.Length  Sepal.Width  Petal.Length  Petal.Width Species\n",
       "0           5.1          3.5           1.4          0.2  setosa\n",
       "1           4.9          3.0           1.4          0.2  setosa\n",
       "2           4.7          3.2           1.3          0.2  setosa\n",
       "3           4.6          3.1           1.5          0.2  setosa\n",
       "4           5.0          3.6           1.4          0.2  setosa"
      ]
     },
     "execution_count": 7,
     "metadata": {},
     "output_type": "execute_result"
    }
   ],
   "source": [
    "url=\"https://raw.githubusercontent.com/shhuangmust/python/master/iris.csv\"\n",
    "iris_df=pd.read_csv(url)\n",
    "iris_df.head()"
   ]
  },
  {
   "cell_type": "markdown",
   "metadata": {},
   "source": [
    "# 雲端載入excel檔案"
   ]
  },
  {
   "cell_type": "code",
   "execution_count": 8,
   "metadata": {},
   "outputs": [
    {
     "data": {
      "text/html": [
       "<div>\n",
       "<style scoped>\n",
       "    .dataframe tbody tr th:only-of-type {\n",
       "        vertical-align: middle;\n",
       "    }\n",
       "\n",
       "    .dataframe tbody tr th {\n",
       "        vertical-align: top;\n",
       "    }\n",
       "\n",
       "    .dataframe thead th {\n",
       "        text-align: right;\n",
       "    }\n",
       "</style>\n",
       "<table border=\"1\" class=\"dataframe\">\n",
       "  <thead>\n",
       "    <tr style=\"text-align: right;\">\n",
       "      <th></th>\n",
       "      <th>Sepal.Length</th>\n",
       "      <th>Sepal.Width</th>\n",
       "      <th>Petal.Length</th>\n",
       "      <th>Petal.Width</th>\n",
       "      <th>Species</th>\n",
       "    </tr>\n",
       "  </thead>\n",
       "  <tbody>\n",
       "    <tr>\n",
       "      <td>0</td>\n",
       "      <td>5.1</td>\n",
       "      <td>3.5</td>\n",
       "      <td>1.4</td>\n",
       "      <td>0.2</td>\n",
       "      <td>setosa</td>\n",
       "    </tr>\n",
       "    <tr>\n",
       "      <td>1</td>\n",
       "      <td>4.9</td>\n",
       "      <td>3.0</td>\n",
       "      <td>1.4</td>\n",
       "      <td>0.2</td>\n",
       "      <td>setosa</td>\n",
       "    </tr>\n",
       "    <tr>\n",
       "      <td>2</td>\n",
       "      <td>4.7</td>\n",
       "      <td>3.2</td>\n",
       "      <td>1.3</td>\n",
       "      <td>0.2</td>\n",
       "      <td>setosa</td>\n",
       "    </tr>\n",
       "    <tr>\n",
       "      <td>3</td>\n",
       "      <td>4.6</td>\n",
       "      <td>3.1</td>\n",
       "      <td>1.5</td>\n",
       "      <td>0.2</td>\n",
       "      <td>setosa</td>\n",
       "    </tr>\n",
       "    <tr>\n",
       "      <td>4</td>\n",
       "      <td>5.0</td>\n",
       "      <td>3.6</td>\n",
       "      <td>1.4</td>\n",
       "      <td>0.2</td>\n",
       "      <td>setosa</td>\n",
       "    </tr>\n",
       "  </tbody>\n",
       "</table>\n",
       "</div>"
      ],
      "text/plain": [
       "   Sepal.Length  Sepal.Width  Petal.Length  Petal.Width Species\n",
       "0           5.1          3.5           1.4          0.2  setosa\n",
       "1           4.9          3.0           1.4          0.2  setosa\n",
       "2           4.7          3.2           1.3          0.2  setosa\n",
       "3           4.6          3.1           1.5          0.2  setosa\n",
       "4           5.0          3.6           1.4          0.2  setosa"
      ]
     },
     "execution_count": 8,
     "metadata": {},
     "output_type": "execute_result"
    }
   ],
   "source": [
    "url=\"https://github.com/shhuangmust/python/raw/master/iris.xlsx\"\n",
    "iris_df=pd.read_excel(url)\n",
    "iris_df.head()"
   ]
  },
  {
   "cell_type": "markdown",
   "metadata": {},
   "source": [
    "# 超級商店superstore範例"
   ]
  },
  {
   "cell_type": "code",
   "execution_count": 10,
   "metadata": {},
   "outputs": [
    {
     "data": {
      "text/html": [
       "<div>\n",
       "<style scoped>\n",
       "    .dataframe tbody tr th:only-of-type {\n",
       "        vertical-align: middle;\n",
       "    }\n",
       "\n",
       "    .dataframe tbody tr th {\n",
       "        vertical-align: top;\n",
       "    }\n",
       "\n",
       "    .dataframe thead th {\n",
       "        text-align: right;\n",
       "    }\n",
       "</style>\n",
       "<table border=\"1\" class=\"dataframe\">\n",
       "  <thead>\n",
       "    <tr style=\"text-align: right;\">\n",
       "      <th></th>\n",
       "      <th>Row ID</th>\n",
       "      <th>Order ID</th>\n",
       "      <th>Order Date</th>\n",
       "      <th>Ship Date</th>\n",
       "      <th>Ship Mode</th>\n",
       "      <th>Customer ID</th>\n",
       "      <th>Customer Name</th>\n",
       "      <th>Segment</th>\n",
       "      <th>Country</th>\n",
       "      <th>City</th>\n",
       "      <th>State</th>\n",
       "      <th>Postal Code</th>\n",
       "      <th>Region</th>\n",
       "      <th>Product ID</th>\n",
       "      <th>Category</th>\n",
       "      <th>Sub-Category</th>\n",
       "      <th>Product Name</th>\n",
       "      <th>Sales</th>\n",
       "      <th>Quantity</th>\n",
       "      <th>Discount</th>\n",
       "      <th>Profit</th>\n",
       "    </tr>\n",
       "  </thead>\n",
       "  <tbody>\n",
       "    <tr>\n",
       "      <td>0</td>\n",
       "      <td>1</td>\n",
       "      <td>CA-2016-152156</td>\n",
       "      <td>2016/11/8</td>\n",
       "      <td>2016/11/11</td>\n",
       "      <td>Second Class</td>\n",
       "      <td>CG-12520</td>\n",
       "      <td>Claire Gute</td>\n",
       "      <td>Consumer</td>\n",
       "      <td>United States</td>\n",
       "      <td>Henderson</td>\n",
       "      <td>Kentucky</td>\n",
       "      <td>42420</td>\n",
       "      <td>South</td>\n",
       "      <td>FUR-BO-10001798</td>\n",
       "      <td>Furniture</td>\n",
       "      <td>Bookcases</td>\n",
       "      <td>Bush Somerset Collection Bookcase</td>\n",
       "      <td>261.9600</td>\n",
       "      <td>2</td>\n",
       "      <td>0.00</td>\n",
       "      <td>41.9136</td>\n",
       "    </tr>\n",
       "    <tr>\n",
       "      <td>1</td>\n",
       "      <td>2</td>\n",
       "      <td>CA-2016-152156</td>\n",
       "      <td>2016/11/8</td>\n",
       "      <td>2016/11/11</td>\n",
       "      <td>Second Class</td>\n",
       "      <td>CG-12520</td>\n",
       "      <td>Claire Gute</td>\n",
       "      <td>Consumer</td>\n",
       "      <td>United States</td>\n",
       "      <td>Henderson</td>\n",
       "      <td>Kentucky</td>\n",
       "      <td>42420</td>\n",
       "      <td>South</td>\n",
       "      <td>FUR-CH-10000454</td>\n",
       "      <td>Furniture</td>\n",
       "      <td>Chairs</td>\n",
       "      <td>Hon Deluxe Fabric Upholstered Stacking Chairs,...</td>\n",
       "      <td>731.9400</td>\n",
       "      <td>3</td>\n",
       "      <td>0.00</td>\n",
       "      <td>219.5820</td>\n",
       "    </tr>\n",
       "    <tr>\n",
       "      <td>2</td>\n",
       "      <td>3</td>\n",
       "      <td>CA-2016-138688</td>\n",
       "      <td>2016/6/12</td>\n",
       "      <td>2016/6/16</td>\n",
       "      <td>Second Class</td>\n",
       "      <td>DV-13045</td>\n",
       "      <td>Darrin Van Huff</td>\n",
       "      <td>Corporate</td>\n",
       "      <td>United States</td>\n",
       "      <td>Los Angeles</td>\n",
       "      <td>California</td>\n",
       "      <td>90036</td>\n",
       "      <td>West</td>\n",
       "      <td>OFF-LA-10000240</td>\n",
       "      <td>Office Supplies</td>\n",
       "      <td>Labels</td>\n",
       "      <td>Self-Adhesive Address Labels for Typewriters b...</td>\n",
       "      <td>14.6200</td>\n",
       "      <td>2</td>\n",
       "      <td>0.00</td>\n",
       "      <td>6.8714</td>\n",
       "    </tr>\n",
       "    <tr>\n",
       "      <td>3</td>\n",
       "      <td>4</td>\n",
       "      <td>US-2015-108966</td>\n",
       "      <td>2015/10/11</td>\n",
       "      <td>2015/10/18</td>\n",
       "      <td>Standard Class</td>\n",
       "      <td>SO-20335</td>\n",
       "      <td>Sean O'Donnell</td>\n",
       "      <td>Consumer</td>\n",
       "      <td>United States</td>\n",
       "      <td>Fort Lauderdale</td>\n",
       "      <td>Florida</td>\n",
       "      <td>33311</td>\n",
       "      <td>South</td>\n",
       "      <td>FUR-TA-10000577</td>\n",
       "      <td>Furniture</td>\n",
       "      <td>Tables</td>\n",
       "      <td>Bretford CR4500 Series Slim Rectangular Table</td>\n",
       "      <td>957.5775</td>\n",
       "      <td>5</td>\n",
       "      <td>0.45</td>\n",
       "      <td>-383.0310</td>\n",
       "    </tr>\n",
       "    <tr>\n",
       "      <td>4</td>\n",
       "      <td>5</td>\n",
       "      <td>US-2015-108966</td>\n",
       "      <td>2015/10/11</td>\n",
       "      <td>2015/10/18</td>\n",
       "      <td>Standard Class</td>\n",
       "      <td>SO-20335</td>\n",
       "      <td>Sean O'Donnell</td>\n",
       "      <td>Consumer</td>\n",
       "      <td>United States</td>\n",
       "      <td>Fort Lauderdale</td>\n",
       "      <td>Florida</td>\n",
       "      <td>33311</td>\n",
       "      <td>South</td>\n",
       "      <td>OFF-ST-10000760</td>\n",
       "      <td>Office Supplies</td>\n",
       "      <td>Storage</td>\n",
       "      <td>Eldon Fold 'N Roll Cart System</td>\n",
       "      <td>22.3680</td>\n",
       "      <td>2</td>\n",
       "      <td>0.20</td>\n",
       "      <td>2.5164</td>\n",
       "    </tr>\n",
       "  </tbody>\n",
       "</table>\n",
       "</div>"
      ],
      "text/plain": [
       "   Row ID        Order ID  Order Date   Ship Date  ...     Sales Quantity Discount    Profit\n",
       "0       1  CA-2016-152156   2016/11/8  2016/11/11  ...  261.9600        2     0.00   41.9136\n",
       "1       2  CA-2016-152156   2016/11/8  2016/11/11  ...  731.9400        3     0.00  219.5820\n",
       "2       3  CA-2016-138688   2016/6/12   2016/6/16  ...   14.6200        2     0.00    6.8714\n",
       "3       4  US-2015-108966  2015/10/11  2015/10/18  ...  957.5775        5     0.45 -383.0310\n",
       "4       5  US-2015-108966  2015/10/11  2015/10/18  ...   22.3680        2     0.20    2.5164\n",
       "\n",
       "[5 rows x 21 columns]"
      ]
     },
     "execution_count": 10,
     "metadata": {},
     "output_type": "execute_result"
    }
   ],
   "source": [
    "url=\"https://raw.githubusercontent.com/shhuangmust/python/master/superstore.csv\"\n",
    "superstore_df=pd.read_csv(url,encoding=\"big5\")\n",
    "superstore_df.head()"
   ]
  },
  {
   "cell_type": "markdown",
   "metadata": {},
   "source": [
    "# superstore資訊"
   ]
  },
  {
   "cell_type": "code",
   "execution_count": 11,
   "metadata": {},
   "outputs": [
    {
     "name": "stdout",
     "output_type": "stream",
     "text": [
      "<class 'pandas.core.frame.DataFrame'>\n",
      "RangeIndex: 9994 entries, 0 to 9993\n",
      "Data columns (total 21 columns):\n",
      "Row ID           9994 non-null int64\n",
      "Order ID         9994 non-null object\n",
      "Order Date       9994 non-null object\n",
      "Ship Date        9994 non-null object\n",
      "Ship Mode        9994 non-null object\n",
      "Customer ID      9994 non-null object\n",
      "Customer Name    9994 non-null object\n",
      "Segment          9994 non-null object\n",
      "Country          9994 non-null object\n",
      "City             9994 non-null object\n",
      "State            9994 non-null object\n",
      "Postal Code      9994 non-null int64\n",
      "Region           9994 non-null object\n",
      "Product ID       9994 non-null object\n",
      "Category         9994 non-null object\n",
      "Sub-Category     9994 non-null object\n",
      "Product Name     9994 non-null object\n",
      "Sales            9994 non-null float64\n",
      "Quantity         9994 non-null int64\n",
      "Discount         9994 non-null float64\n",
      "Profit           9994 non-null float64\n",
      "dtypes: float64(3), int64(3), object(15)\n",
      "memory usage: 1.6+ MB\n"
     ]
    }
   ],
   "source": [
    "superstore_df.info()"
   ]
  },
  {
   "cell_type": "code",
   "execution_count": 14,
   "metadata": {},
   "outputs": [
    {
     "data": {
      "text/html": [
       "<div>\n",
       "<style scoped>\n",
       "    .dataframe tbody tr th:only-of-type {\n",
       "        vertical-align: middle;\n",
       "    }\n",
       "\n",
       "    .dataframe tbody tr th {\n",
       "        vertical-align: top;\n",
       "    }\n",
       "\n",
       "    .dataframe thead th {\n",
       "        text-align: right;\n",
       "    }\n",
       "</style>\n",
       "<table border=\"1\" class=\"dataframe\">\n",
       "  <thead>\n",
       "    <tr style=\"text-align: right;\">\n",
       "      <th></th>\n",
       "      <th>Sales</th>\n",
       "      <th>Quantity</th>\n",
       "      <th>Profit</th>\n",
       "    </tr>\n",
       "  </thead>\n",
       "  <tbody>\n",
       "    <tr>\n",
       "      <td>count</td>\n",
       "      <td>9994.000000</td>\n",
       "      <td>9994.000000</td>\n",
       "      <td>9994.000000</td>\n",
       "    </tr>\n",
       "    <tr>\n",
       "      <td>mean</td>\n",
       "      <td>229.858001</td>\n",
       "      <td>3.789574</td>\n",
       "      <td>28.656896</td>\n",
       "    </tr>\n",
       "    <tr>\n",
       "      <td>std</td>\n",
       "      <td>623.245101</td>\n",
       "      <td>2.225110</td>\n",
       "      <td>234.260108</td>\n",
       "    </tr>\n",
       "    <tr>\n",
       "      <td>min</td>\n",
       "      <td>0.444000</td>\n",
       "      <td>1.000000</td>\n",
       "      <td>-6599.978000</td>\n",
       "    </tr>\n",
       "    <tr>\n",
       "      <td>25%</td>\n",
       "      <td>17.280000</td>\n",
       "      <td>2.000000</td>\n",
       "      <td>1.728750</td>\n",
       "    </tr>\n",
       "    <tr>\n",
       "      <td>50%</td>\n",
       "      <td>54.490000</td>\n",
       "      <td>3.000000</td>\n",
       "      <td>8.666500</td>\n",
       "    </tr>\n",
       "    <tr>\n",
       "      <td>75%</td>\n",
       "      <td>209.940000</td>\n",
       "      <td>5.000000</td>\n",
       "      <td>29.364000</td>\n",
       "    </tr>\n",
       "    <tr>\n",
       "      <td>max</td>\n",
       "      <td>22638.480000</td>\n",
       "      <td>14.000000</td>\n",
       "      <td>8399.976000</td>\n",
       "    </tr>\n",
       "  </tbody>\n",
       "</table>\n",
       "</div>"
      ],
      "text/plain": [
       "              Sales     Quantity       Profit\n",
       "count   9994.000000  9994.000000  9994.000000\n",
       "mean     229.858001     3.789574    28.656896\n",
       "std      623.245101     2.225110   234.260108\n",
       "min        0.444000     1.000000 -6599.978000\n",
       "25%       17.280000     2.000000     1.728750\n",
       "50%       54.490000     3.000000     8.666500\n",
       "75%      209.940000     5.000000    29.364000\n",
       "max    22638.480000    14.000000  8399.976000"
      ]
     },
     "execution_count": 14,
     "metadata": {},
     "output_type": "execute_result"
    }
   ],
   "source": [
    "st1=superstore_df[[\"Sales\",\"Quantity\",\"Profit\"]]\n",
    "st1.describe()\n"
   ]
  },
  {
   "cell_type": "markdown",
   "metadata": {},
   "source": [
    "# 交易獲利率最高的金額為何"
   ]
  },
  {
   "cell_type": "code",
   "execution_count": 15,
   "metadata": {},
   "outputs": [
    {
     "data": {
      "text/plain": [
       "8399.976"
      ]
     },
     "execution_count": 15,
     "metadata": {},
     "output_type": "execute_result"
    }
   ],
   "source": [
    "superstore_df[\"Profit\"].max()"
   ]
  },
  {
   "cell_type": "markdown",
   "metadata": {},
   "source": [
    "# 獲利最高的前1000筆資料，期平均獲利為何"
   ]
  },
  {
   "cell_type": "code",
   "execution_count": 21,
   "metadata": {},
   "outputs": [
    {
     "data": {
      "text/plain": [
       "310.4856984000003"
      ]
     },
     "execution_count": 21,
     "metadata": {},
     "output_type": "execute_result"
    }
   ],
   "source": [
    "st2= superstore_df.sort_values(by=\"Profit\")\n",
    "#st2.head() 獲利資料由小排到大，要找獲利最高的前1000筆資料，要從後面找起\n",
    "st2.iloc[-1000:][\"Profit\"].mean()#獲利最高的前1000筆，期平均獲利為310.485698\n"
   ]
  },
  {
   "cell_type": "markdown",
   "metadata": {},
   "source": [
    "# 單筆總交易金額最高為何"
   ]
  },
  {
   "cell_type": "code",
   "execution_count": 23,
   "metadata": {},
   "outputs": [
    {
     "data": {
      "text/plain": [
       "23661.228"
      ]
     },
     "execution_count": 23,
     "metadata": {},
     "output_type": "execute_result"
    }
   ],
   "source": [
    "superstore_df.groupby(by=\"Order ID\").sum()[\"Sales\"].max()"
   ]
  },
  {
   "cell_type": "code",
   "execution_count": null,
   "metadata": {},
   "outputs": [],
   "source": []
  }
 ],
 "metadata": {
  "kernelspec": {
   "display_name": "Python 3",
   "language": "python",
   "name": "python3"
  },
  "language_info": {
   "codemirror_mode": {
    "name": "ipython",
    "version": 3
   },
   "file_extension": ".py",
   "mimetype": "text/x-python",
   "name": "python",
   "nbconvert_exporter": "python",
   "pygments_lexer": "ipython3",
   "version": "3.7.4"
  }
 },
 "nbformat": 4,
 "nbformat_minor": 2
}
